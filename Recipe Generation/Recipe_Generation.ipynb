{
  "nbformat": 4,
  "nbformat_minor": 0,
  "metadata": {
    "colab": {
      "name": "Recipe Generation",
      "provenance": [],
      "collapsed_sections": [],
      "authorship_tag": "ABX9TyP/tu2ySdopihUixP+4qPTs",
      "include_colab_link": true
    },
    "kernelspec": {
      "name": "python3",
      "display_name": "Python 3"
    },
    "language_info": {
      "name": "python"
    }
  },
  "cells": [
    {
      "cell_type": "markdown",
      "metadata": {
        "id": "view-in-github",
        "colab_type": "text"
      },
      "source": [
        "<a href=\"https://colab.research.google.com/github/RvMerle/RvMerle/blob/main/Recipe%20Generation/Recipe_Generation.ipynb\" target=\"_parent\"><img src=\"https://colab.research.google.com/assets/colab-badge.svg\" alt=\"Open In Colab\"/></a>"
      ]
    },
    {
      "cell_type": "markdown",
      "metadata": {
        "id": "YKRs-O81DrWC"
      },
      "source": [
        "#Recipe Generation\n",
        "So, the basic idea of this notebook is to train a model to automatically generate new cooking recipes, which hopefully turn out to be eatable. Here are some steps I envision:\n",
        "1. Find & analyse dataset\n",
        "2. Train basic text generation model on our dataset\n",
        "3. Find out way to train a model that makes coherent recipes"
      ]
    },
    {
      "cell_type": "markdown",
      "metadata": {
        "id": "ISCU_pu0EFVk"
      },
      "source": [
        "# Data\n",
        "I'm gonna use this dataset that contains around 125.000 recipes from various websites: https://eightportions.com/datasets/Recipes/"
      ]
    },
    {
      "cell_type": "code",
      "metadata": {
        "id": "_-yNW3jqFeyH"
      },
      "source": [
        "import pandas as pd"
      ],
      "execution_count": 1,
      "outputs": []
    },
    {
      "cell_type": "code",
      "metadata": {
        "colab": {
          "base_uri": "https://localhost:8080/",
          "height": 279
        },
        "id": "8rDdb71TGrZH",
        "outputId": "ab7fcc82-674e-48c8-bc42-4fde467a70c8"
      },
      "source": [
        "# Load dataset, which contains of 3 separate json files hosted on my drive\n",
        "ids = ['1jWrAFbG9BKcBFqQ6XjeQYQ0iSdWQkgsc', '1NNzZ9iYOlbwH5NP0kcumEDWB_6vgPDZp', '1odQGdo7eJi0YbXlH05WiXyM-vrdgvpQJ']\n",
        "df = pd.DataFrame()\n",
        "for id in ids:\n",
        "    df = df.append(pd.read_json('https://drive.google.com/uc?export=download&id=' + id, orient='index'))\n",
        "df.head()"
      ],
      "execution_count": 2,
      "outputs": [
        {
          "output_type": "execute_result",
          "data": {
            "text/html": [
              "<div>\n",
              "<style scoped>\n",
              "    .dataframe tbody tr th:only-of-type {\n",
              "        vertical-align: middle;\n",
              "    }\n",
              "\n",
              "    .dataframe tbody tr th {\n",
              "        vertical-align: top;\n",
              "    }\n",
              "\n",
              "    .dataframe thead th {\n",
              "        text-align: right;\n",
              "    }\n",
              "</style>\n",
              "<table border=\"1\" class=\"dataframe\">\n",
              "  <thead>\n",
              "    <tr style=\"text-align: right;\">\n",
              "      <th></th>\n",
              "      <th>title</th>\n",
              "      <th>ingredients</th>\n",
              "      <th>instructions</th>\n",
              "      <th>picture_link</th>\n",
              "    </tr>\n",
              "  </thead>\n",
              "  <tbody>\n",
              "    <tr>\n",
              "      <th>rmK12Uau.ntP510KeImX506H6Mr6jTu</th>\n",
              "      <td>Slow Cooker Chicken and Dumplings</td>\n",
              "      <td>[4 skinless, boneless chicken breast halves AD...</td>\n",
              "      <td>Place the chicken, butter, soup, and onion in ...</td>\n",
              "      <td>55lznCYBbs2mT8BTx6BTkLhynGHzM.S</td>\n",
              "    </tr>\n",
              "    <tr>\n",
              "      <th>5ZpZE8hSVdPk2ZXo1mZTyoPWJRSCPSm</th>\n",
              "      <td>Awesome Slow Cooker Pot Roast</td>\n",
              "      <td>[2 (10.75 ounce) cans condensed cream of mushr...</td>\n",
              "      <td>In a slow cooker, mix cream of mushroom soup, ...</td>\n",
              "      <td>QyrvGdGNMBA2lDdciY0FjKu.77MM0Oe</td>\n",
              "    </tr>\n",
              "    <tr>\n",
              "      <th>clyYQv.CplpwJtjNaFGhx0VilNYqRxu</th>\n",
              "      <td>Brown Sugar Meatloaf</td>\n",
              "      <td>[1/2 cup packed brown sugar ADVERTISEMENT, 1/2...</td>\n",
              "      <td>Preheat oven to 350 degrees F (175 degrees C)....</td>\n",
              "      <td>LVW1DI0vtlCrpAhNSEQysE9i/7rJG56</td>\n",
              "    </tr>\n",
              "    <tr>\n",
              "      <th>BmqFAmCrDHiKNwX.IQzb0U/v0mLlxFu</th>\n",
              "      <td>Best Chocolate Chip Cookies</td>\n",
              "      <td>[1 cup butter, softened ADVERTISEMENT, 1 cup w...</td>\n",
              "      <td>Preheat oven to 350 degrees F (175 degrees C)....</td>\n",
              "      <td>0SO5kdWOV94j6EfAVwMMYRM3yNN8eRi</td>\n",
              "    </tr>\n",
              "    <tr>\n",
              "      <th>N.jCksRjB4MFwbgPFQU8Kg.yF.XCtOi</th>\n",
              "      <td>Homemade Mac and Cheese Casserole</td>\n",
              "      <td>[8 ounces whole wheat rotini pasta ADVERTISEME...</td>\n",
              "      <td>Preheat oven to 350 degrees F. Line a 2-quart ...</td>\n",
              "      <td>YCnbhplMgiraW4rUXcybgSEZinSgljm</td>\n",
              "    </tr>\n",
              "  </tbody>\n",
              "</table>\n",
              "</div>"
            ],
            "text/plain": [
              "                                                             title  ...                     picture_link\n",
              "rmK12Uau.ntP510KeImX506H6Mr6jTu  Slow Cooker Chicken and Dumplings  ...  55lznCYBbs2mT8BTx6BTkLhynGHzM.S\n",
              "5ZpZE8hSVdPk2ZXo1mZTyoPWJRSCPSm      Awesome Slow Cooker Pot Roast  ...  QyrvGdGNMBA2lDdciY0FjKu.77MM0Oe\n",
              "clyYQv.CplpwJtjNaFGhx0VilNYqRxu               Brown Sugar Meatloaf  ...  LVW1DI0vtlCrpAhNSEQysE9i/7rJG56\n",
              "BmqFAmCrDHiKNwX.IQzb0U/v0mLlxFu        Best Chocolate Chip Cookies  ...  0SO5kdWOV94j6EfAVwMMYRM3yNN8eRi\n",
              "N.jCksRjB4MFwbgPFQU8Kg.yF.XCtOi  Homemade Mac and Cheese Casserole  ...  YCnbhplMgiraW4rUXcybgSEZinSgljm\n",
              "\n",
              "[5 rows x 4 columns]"
            ]
          },
          "metadata": {
            "tags": []
          },
          "execution_count": 2
        }
      ]
    },
    {
      "cell_type": "code",
      "metadata": {
        "colab": {
          "base_uri": "https://localhost:8080/",
          "height": 195
        },
        "id": "TWeMUrvyIFQm",
        "outputId": "f86dec7d-36d2-4f71-9f9e-87ba4ab93a6a"
      },
      "source": [
        "# Index is the source URL hashed. It's not of much use for us, so I'll remove it.\n",
        "# Also, I'll remove the picture_link column as I won't use it\n",
        "df = df.reset_index(drop=True)\n",
        "df = df.drop(columns='picture_link')\n",
        "df.head()"
      ],
      "execution_count": 3,
      "outputs": [
        {
          "output_type": "execute_result",
          "data": {
            "text/html": [
              "<div>\n",
              "<style scoped>\n",
              "    .dataframe tbody tr th:only-of-type {\n",
              "        vertical-align: middle;\n",
              "    }\n",
              "\n",
              "    .dataframe tbody tr th {\n",
              "        vertical-align: top;\n",
              "    }\n",
              "\n",
              "    .dataframe thead th {\n",
              "        text-align: right;\n",
              "    }\n",
              "</style>\n",
              "<table border=\"1\" class=\"dataframe\">\n",
              "  <thead>\n",
              "    <tr style=\"text-align: right;\">\n",
              "      <th></th>\n",
              "      <th>title</th>\n",
              "      <th>ingredients</th>\n",
              "      <th>instructions</th>\n",
              "    </tr>\n",
              "  </thead>\n",
              "  <tbody>\n",
              "    <tr>\n",
              "      <th>0</th>\n",
              "      <td>Slow Cooker Chicken and Dumplings</td>\n",
              "      <td>[4 skinless, boneless chicken breast halves AD...</td>\n",
              "      <td>Place the chicken, butter, soup, and onion in ...</td>\n",
              "    </tr>\n",
              "    <tr>\n",
              "      <th>1</th>\n",
              "      <td>Awesome Slow Cooker Pot Roast</td>\n",
              "      <td>[2 (10.75 ounce) cans condensed cream of mushr...</td>\n",
              "      <td>In a slow cooker, mix cream of mushroom soup, ...</td>\n",
              "    </tr>\n",
              "    <tr>\n",
              "      <th>2</th>\n",
              "      <td>Brown Sugar Meatloaf</td>\n",
              "      <td>[1/2 cup packed brown sugar ADVERTISEMENT, 1/2...</td>\n",
              "      <td>Preheat oven to 350 degrees F (175 degrees C)....</td>\n",
              "    </tr>\n",
              "    <tr>\n",
              "      <th>3</th>\n",
              "      <td>Best Chocolate Chip Cookies</td>\n",
              "      <td>[1 cup butter, softened ADVERTISEMENT, 1 cup w...</td>\n",
              "      <td>Preheat oven to 350 degrees F (175 degrees C)....</td>\n",
              "    </tr>\n",
              "    <tr>\n",
              "      <th>4</th>\n",
              "      <td>Homemade Mac and Cheese Casserole</td>\n",
              "      <td>[8 ounces whole wheat rotini pasta ADVERTISEME...</td>\n",
              "      <td>Preheat oven to 350 degrees F. Line a 2-quart ...</td>\n",
              "    </tr>\n",
              "  </tbody>\n",
              "</table>\n",
              "</div>"
            ],
            "text/plain": [
              "                               title  ...                                       instructions\n",
              "0  Slow Cooker Chicken and Dumplings  ...  Place the chicken, butter, soup, and onion in ...\n",
              "1      Awesome Slow Cooker Pot Roast  ...  In a slow cooker, mix cream of mushroom soup, ...\n",
              "2               Brown Sugar Meatloaf  ...  Preheat oven to 350 degrees F (175 degrees C)....\n",
              "3        Best Chocolate Chip Cookies  ...  Preheat oven to 350 degrees F (175 degrees C)....\n",
              "4  Homemade Mac and Cheese Casserole  ...  Preheat oven to 350 degrees F. Line a 2-quart ...\n",
              "\n",
              "[5 rows x 3 columns]"
            ]
          },
          "metadata": {
            "tags": []
          },
          "execution_count": 3
        }
      ]
    },
    {
      "cell_type": "code",
      "metadata": {
        "colab": {
          "base_uri": "https://localhost:8080/"
        },
        "id": "zpmbWtGwHDDi",
        "outputId": "3685eb84-304c-40f9-c44a-a809edbf1661"
      },
      "source": [
        "df.info()"
      ],
      "execution_count": 4,
      "outputs": [
        {
          "output_type": "stream",
          "text": [
            "<class 'pandas.core.frame.DataFrame'>\n",
            "RangeIndex: 124647 entries, 0 to 124646\n",
            "Data columns (total 3 columns):\n",
            " #   Column        Non-Null Count   Dtype \n",
            "---  ------        --------------   ----- \n",
            " 0   title         124595 non-null  object\n",
            " 1   ingredients   124647 non-null  object\n",
            " 2   instructions  124473 non-null  object\n",
            "dtypes: object(3)\n",
            "memory usage: 2.9+ MB\n"
          ],
          "name": "stdout"
        }
      ]
    },
    {
      "cell_type": "code",
      "metadata": {
        "id": "COvxBNg5H32G"
      },
      "source": [
        ""
      ],
      "execution_count": 4,
      "outputs": []
    }
  ]
}